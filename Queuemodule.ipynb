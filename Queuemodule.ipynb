{
 "cells": [
  {
   "cell_type": "code",
   "execution_count": null,
   "metadata": {},
   "outputs": [],
   "source": [
    "# PYTHON PROGRAM TO DEMONSTRATE STACK\n",
    "# STACK IMPLEMENTATION USING QUEUE MODULE\n",
    "\n",
    "from queue import LifoQueue\n",
    "# Initializing a stack\n",
    "stack=LifoQueue(maxsize=5)\n",
    "# qsize - Shows the number of elements in the stack\n",
    "print(stack.qsize())\n",
    "#put- Function to push element in the stack\n",
    "stack.put(55)\n",
    "stack.put(66)\n",
    "stack.put(77)\n",
    "stack.put(88)\n",
    "stack.put(99)\n",
    "print('Full:',stack.full())\n",
    "print('Size:',stack.qsize())\n",
    "#get- Function to pop element from the stack in LIFO order\n",
    "print('\\n Elements popped from the stack:')\n",
    "print(stack.get())\n",
    "print(stack.get())\n",
    "print(stack.get())\n",
    "print(stack.get())\n",
    "print(stack.get())\n",
    "print('\\n Empty:',stack.empty())\n",
    "\n"
   ]
  }
 ],
 "metadata": {
  "language_info": {
   "name": "python"
  }
 },
 "nbformat": 4,
 "nbformat_minor": 2
}
